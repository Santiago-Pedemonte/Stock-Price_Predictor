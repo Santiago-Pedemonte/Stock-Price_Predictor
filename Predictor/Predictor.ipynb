{
 "cells": [
  {
   "cell_type": "code",
   "execution_count": 1,
   "metadata": {},
   "outputs": [],
   "source": [
    "import numpy as np\n",
    "import matplotlib.pyplot as plt\n",
    "import pandas as pd\n",
    "import pandas_datareader as web\n",
    "import datetime as dt\n",
    "\n",
    "from sklearn.preprocessing import MinMaxScaler\n",
    "from tensorflow.keras.models import Sequential\n",
    "from tensorflow.keras.layers import Dense, Dropout, LSTM"
   ]
  },
  {
   "cell_type": "code",
   "execution_count": 2,
   "metadata": {},
   "outputs": [],
   "source": [
    "# Load Data\n",
    "tickers = ['ETH-USD']\n",
    "\n",
    "start = dt.datetime(2012,1,1)\n",
    "end = dt.datetime(2020,1,1)\n",
    "\n",
    "data = web.DataReader(tickers, 'yahoo', start, end)"
   ]
  },
  {
   "cell_type": "code",
   "execution_count": 3,
   "metadata": {},
   "outputs": [],
   "source": [
    "# Prepare Data (Scaling)\n",
    "scaler = MinMaxScaler(feature_range=(0,1))\n",
    "scaled_data = scaler.fit_transform(data['Close'].values.reshape(-1,1)) # Only closing price\n",
    "\n",
    "prediction_days = 60  # Number of days you want to look into the past.\n",
    "\n",
    "x_train = []\n",
    "y_train = []\n",
    "\n",
    "for x in range(prediction_days, len(scaled_data)):  # Create training sets.\n",
    "    x_train.append(scaled_data[x - prediction_days:x, 0])\n",
    "    y_train.append(scaled_data[x, 0])\n",
    "    \n",
    "x_train, y_train = np.array(x_train), np.array(y_train)\n",
    "x_train = np.reshape(x_train, (x_train.shape[0], x_train.shape[1], 1))"
   ]
  },
  {
   "cell_type": "code",
   "execution_count": 4,
   "metadata": {},
   "outputs": [
    {
     "name": "stdout",
     "output_type": "stream",
     "text": [
      "Epoch 1/50\n",
      "25/25 [==============================] - 4s 44ms/step - loss: 0.0274\n",
      "Epoch 2/50\n",
      "25/25 [==============================] - 1s 39ms/step - loss: 0.0033\n",
      "Epoch 3/50\n",
      "25/25 [==============================] - 1s 39ms/step - loss: 0.0025\n",
      "Epoch 4/50\n",
      "25/25 [==============================] - 1s 39ms/step - loss: 0.0023\n",
      "Epoch 5/50\n",
      "25/25 [==============================] - 1s 40ms/step - loss: 0.0020\n",
      "Epoch 6/50\n",
      "25/25 [==============================] - 1s 39ms/step - loss: 0.0017\n",
      "Epoch 7/50\n",
      "25/25 [==============================] - 1s 39ms/step - loss: 0.0020\n",
      "Epoch 8/50\n",
      "25/25 [==============================] - 1s 40ms/step - loss: 0.0021\n",
      "Epoch 9/50\n",
      "25/25 [==============================] - 1s 40ms/step - loss: 0.0018\n",
      "Epoch 10/50\n",
      "25/25 [==============================] - 1s 42ms/step - loss: 0.0016\n",
      "Epoch 11/50\n",
      "25/25 [==============================] - 1s 40ms/step - loss: 0.0016\n",
      "Epoch 12/50\n",
      "25/25 [==============================] - 1s 41ms/step - loss: 0.0021\n",
      "Epoch 13/50\n",
      "25/25 [==============================] - 1s 41ms/step - loss: 0.0017\n",
      "Epoch 14/50\n",
      "25/25 [==============================] - 1s 41ms/step - loss: 0.0021\n",
      "Epoch 15/50\n",
      "25/25 [==============================] - 1s 40ms/step - loss: 0.0017\n",
      "Epoch 16/50\n",
      "25/25 [==============================] - 1s 40ms/step - loss: 0.0016\n",
      "Epoch 17/50\n",
      "25/25 [==============================] - 1s 41ms/step - loss: 0.0015\n",
      "Epoch 18/50\n",
      "25/25 [==============================] - 1s 41ms/step - loss: 0.0018\n",
      "Epoch 19/50\n",
      "25/25 [==============================] - 1s 40ms/step - loss: 0.0013\n",
      "Epoch 20/50\n",
      "25/25 [==============================] - 1s 41ms/step - loss: 0.0015\n",
      "Epoch 21/50\n",
      "25/25 [==============================] - 1s 40ms/step - loss: 0.0011\n",
      "Epoch 22/50\n",
      "25/25 [==============================] - 1s 41ms/step - loss: 0.0015\n",
      "Epoch 23/50\n",
      "25/25 [==============================] - 1s 41ms/step - loss: 0.0011\n",
      "Epoch 24/50\n",
      "25/25 [==============================] - 1s 40ms/step - loss: 0.0013\n",
      "Epoch 25/50\n",
      "25/25 [==============================] - 1s 42ms/step - loss: 0.0015\n",
      "Epoch 26/50\n",
      "25/25 [==============================] - 1s 41ms/step - loss: 0.0010\n",
      "Epoch 27/50\n",
      "25/25 [==============================] - 1s 40ms/step - loss: 0.0014\n",
      "Epoch 28/50\n",
      "25/25 [==============================] - 1s 41ms/step - loss: 0.0011\n",
      "Epoch 29/50\n",
      "25/25 [==============================] - 1s 41ms/step - loss: 0.0014\n",
      "Epoch 30/50\n",
      "25/25 [==============================] - 1s 40ms/step - loss: 9.2196e-04\n",
      "Epoch 31/50\n",
      "25/25 [==============================] - 1s 42ms/step - loss: 0.0013: 0s - loss\n",
      "Epoch 32/50\n",
      "25/25 [==============================] - 1s 43ms/step - loss: 0.0010\n",
      "Epoch 33/50\n",
      "25/25 [==============================] - 1s 46ms/step - loss: 0.0013\n",
      "Epoch 34/50\n",
      "25/25 [==============================] - 1s 41ms/step - loss: 0.0012\n",
      "Epoch 35/50\n",
      "25/25 [==============================] - 1s 40ms/step - loss: 0.0013\n",
      "Epoch 36/50\n",
      "25/25 [==============================] - 1s 41ms/step - loss: 0.0013\n",
      "Epoch 37/50\n",
      "25/25 [==============================] - 1s 40ms/step - loss: 8.7379e-04\n",
      "Epoch 38/50\n",
      "25/25 [==============================] - 1s 40ms/step - loss: 8.4963e-04\n",
      "Epoch 39/50\n",
      "25/25 [==============================] - 1s 40ms/step - loss: 9.5904e-04\n",
      "Epoch 40/50\n",
      "25/25 [==============================] - 1s 41ms/step - loss: 7.9507e-04\n",
      "Epoch 41/50\n",
      "25/25 [==============================] - 1s 42ms/step - loss: 8.3942e-04\n",
      "Epoch 42/50\n",
      "25/25 [==============================] - 1s 41ms/step - loss: 7.4981e-04\n",
      "Epoch 43/50\n",
      "25/25 [==============================] - 1s 41ms/step - loss: 8.4331e-04\n",
      "Epoch 44/50\n",
      "25/25 [==============================] - 1s 41ms/step - loss: 7.6630e-04\n",
      "Epoch 45/50\n",
      "25/25 [==============================] - 1s 40ms/step - loss: 9.5819e-04\n",
      "Epoch 46/50\n",
      "25/25 [==============================] - 1s 40ms/step - loss: 8.8996e-04\n",
      "Epoch 47/50\n",
      "25/25 [==============================] - 1s 39ms/step - loss: 8.1086e-04\n",
      "Epoch 48/50\n",
      "25/25 [==============================] - 1s 40ms/step - loss: 7.4213e-04\n",
      "Epoch 49/50\n",
      "25/25 [==============================] - 1s 39ms/step - loss: 8.5899e-04\n",
      "Epoch 50/50\n",
      "25/25 [==============================] - 1s 40ms/step - loss: 9.5969e-04\n"
     ]
    },
    {
     "data": {
      "text/plain": [
       "<tensorflow.python.keras.callbacks.History at 0x1ae392ca1c8>"
      ]
     },
     "execution_count": 4,
     "metadata": {},
     "output_type": "execute_result"
    }
   ],
   "source": [
    "# Build the Model\n",
    "model = Sequential()\n",
    "\n",
    "model.add(LSTM(units = 50, return_sequences = True, input_shape = (x_train.shape[1], 1))) # Can change the number of units to increase or decrease training.\n",
    "model.add(Dropout(0.2))\n",
    "model.add(LSTM(units = 50, return_sequences = True)) # Can change the number of units to increase or decrease training.\n",
    "model.add(Dropout(0.2))\n",
    "model.add(LSTM(units = 50)) # Can change the number of units to increase or decrease training.\n",
    "model.add(Dropout(0.2))\n",
    "model.add(Dense(units=1)) #Prediction of the next closing value.\n",
    "\n",
    "model.compile(optimizer = 'adam', loss = 'mean_squared_error')\n",
    "model.fit(x_train, y_train, epochs=50, batch_size = 64) # Can tweak batch_size (number of samples looked at one time) or epochs."
   ]
  },
  {
   "cell_type": "code",
   "execution_count": 5,
   "metadata": {},
   "outputs": [],
   "source": [
    "'''Testing Model's Accuracy on Existing Data'''\n",
    "\n",
    "# Load Test Data\n",
    "test_start = dt.datetime(2020,1,1)  # Gather data not available to the model\n",
    "test_end = dt.datetime.now()\n",
    "\n",
    "test_data = web.DataReader(tickers, 'yahoo', test_start, test_end)\n",
    "actual_prices = test_data['Close'].values\n",
    "\n",
    "total_dataset = pd.concat((data['Close'], test_data['Close']), axis = 0)\n",
    "\n",
    "model_inputs = total_dataset[len(total_dataset) - len(test_data) - prediction_days:].values\n",
    "model_inputs = model_inputs.reshape(-1,1)\n",
    "model_inputs = scaler.transform(model_inputs)"
   ]
  },
  {
   "cell_type": "code",
   "execution_count": 6,
   "metadata": {},
   "outputs": [],
   "source": [
    "# Make Predictions on Test Data\n",
    "\n",
    "x_test = []\n",
    "\n",
    "for x in range(prediction_days, len(model_inputs)):\n",
    "    x_test.append(model_inputs[x- prediction_days:x,  0])\n",
    "    \n",
    "x_test = np.array(x_test)\n",
    "x_test = np.reshape(x_test, (x_test.shape[0], x_test.shape[1], 1))\n",
    "\n",
    "predicted_prices = model.predict(x_test)\n",
    "predicted_prices = scaler.inverse_transform(predicted_prices)"
   ]
  },
  {
   "cell_type": "code",
   "execution_count": 7,
   "metadata": {},
   "outputs": [
    {
     "data": {
      "text/plain": [
       "<function matplotlib.pyplot.show(close=None, block=None)>"
      ]
     },
     "execution_count": 7,
     "metadata": {},
     "output_type": "execute_result"
    },
    {
     "data": {
      "image/png": "[encoded data removed]",
      "text/plain": [
       "<Figure size 432x288 with 1 Axes>"
      ]
     },
     "metadata": {
      "needs_background": "light"
     },
     "output_type": "display_data"
    }
   ],
   "source": [
    "# Plot Test Predictions\n",
    "plt.plot(actual_prices, color = 'blue', label = \"Actual Price\")\n",
    "plt.plot(predicted_prices, color = 'red', label = \"Predicted Price\")\n",
    "plt.title(str(tickers) + \"Share Price\")\n",
    "plt.xlabel('Time')\n",
    "plt.ylabel('Price')\n",
    "plt.legend()\n",
    "plt.show"
   ]
  },
  {
   "cell_type": "code",
   "execution_count": 11,
   "metadata": {},
   "outputs": [
    {
     "name": "stdout",
     "output_type": "stream",
     "text": [
      "Prediction: [[1577.2026]]\n"
     ]
    }
   ],
   "source": [
    "# Predicting Next Day's Price\n",
    "\n",
    "real_data = [model_inputs[len(model_inputs) + 1  - prediction_days: len(model_inputs), 0]]\n",
    "real_data = np.array(real_data)\n",
    "real_data = np.reshape(real_data, (real_data.shape[0], real_data.shape[1], 1))\n",
    "\n",
    "prediction = model.predict(real_data)\n",
    "prediction = scaler.inverse_transform(prediction)\n",
    "print(\"Prediction:\", prediction)"
   ]
  },
  {
   "cell_type": "code",
   "execution_count": null,
   "metadata": {},
   "outputs": [],
   "source": []
  }
 ],
 "metadata": {
  "kernelspec": {
   "display_name": "Python 3",
   "language": "python",
   "name": "python3"
  },
  "language_info": {
   "codemirror_mode": {
    "name": "ipython",
    "version": 3
   },
   "file_extension": ".py",
   "mimetype": "text/x-python",
   "name": "python",
   "nbconvert_exporter": "python",
   "pygments_lexer": "ipython3",
   "version": "3.7.9"
  }
 },
 "nbformat": 4,
 "nbformat_minor": 4
}
